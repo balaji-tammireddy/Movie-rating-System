{
 "cells": [
  {
   "cell_type": "markdown",
   "metadata": {},
   "source": [
    "## Import Libraries"
   ]
  },
  {
   "cell_type": "code",
   "execution_count": 1,
   "metadata": {},
   "outputs": [],
   "source": [
    "import pandas as pd\n",
    "import numpy as np\n",
    "import seaborn as sns\n",
    "import matplotlib.pyplot as plt\n",
    "from sklearn.model_selection import train_test_split\n",
    "from sklearn.metrics import mean_squared_error, r2_score\n",
    "import pickle\n",
    "from sklearn.linear_model import LinearRegression\n",
    "from sklearn.preprocessing import StandardScaler\n",
    "from sklearn.feature_extraction.text import TfidfVectorizer"
   ]
  },
  {
   "cell_type": "markdown",
   "metadata": {},
   "source": [
    "## Explore Dataset"
   ]
  },
  {
   "cell_type": "code",
   "execution_count": 2,
   "metadata": {},
   "outputs": [],
   "source": [
    "data = pd.read_csv('C:/Users/btamm/imdb_sup.csv')"
   ]
  },
  {
   "cell_type": "code",
   "execution_count": 3,
   "metadata": {},
   "outputs": [
    {
     "name": "stdout",
     "output_type": "stream",
     "text": [
      "                                              Review  Rating  Sentiment\n",
      "0  Kurt Russell's chameleon-like performance, cou...      10          1\n",
      "1  It was extremely low budget(it some scenes it ...       8          1\n",
      "2  James Cagney is best known for his tough chara...       8          1\n",
      "3  Following the brilliant \"Goyôkiba\" (aka. \"Hanz...       8          1\n",
      "4  One of the last classics of the French New Wav...      10          1\n"
     ]
    }
   ],
   "source": [
    "print(data.head())"
   ]
  },
  {
   "cell_type": "code",
   "execution_count": 4,
   "metadata": {},
   "outputs": [
    {
     "name": "stdout",
     "output_type": "stream",
     "text": [
      "(50000, 3)\n"
     ]
    }
   ],
   "source": [
    "print(data.shape)"
   ]
  },
  {
   "cell_type": "code",
   "execution_count": 5,
   "metadata": {},
   "outputs": [
    {
     "name": "stdout",
     "output_type": "stream",
     "text": [
      "Index(['Review', 'Rating', 'Sentiment'], dtype='object')\n"
     ]
    }
   ],
   "source": [
    "print(data.columns)"
   ]
  },
  {
   "cell_type": "code",
   "execution_count": 6,
   "metadata": {},
   "outputs": [
    {
     "name": "stdout",
     "output_type": "stream",
     "text": [
      "<class 'pandas.core.frame.DataFrame'>\n",
      "RangeIndex: 50000 entries, 0 to 49999\n",
      "Data columns (total 3 columns):\n",
      " #   Column     Non-Null Count  Dtype \n",
      "---  ------     --------------  ----- \n",
      " 0   Review     50000 non-null  object\n",
      " 1   Rating     50000 non-null  int64 \n",
      " 2   Sentiment  50000 non-null  int64 \n",
      "dtypes: int64(2), object(1)\n",
      "memory usage: 1.1+ MB\n",
      "None\n"
     ]
    }
   ],
   "source": [
    "print(data.info())"
   ]
  },
  {
   "cell_type": "code",
   "execution_count": 7,
   "metadata": {},
   "outputs": [
    {
     "name": "stdout",
     "output_type": "stream",
     "text": [
      "             Rating     Sentiment\n",
      "count  50000.000000  50000.000000\n",
      "mean       5.495340      0.500000\n",
      "std        3.478721      0.500005\n",
      "min        1.000000      0.000000\n",
      "25%        2.000000      0.000000\n",
      "50%        5.500000      0.500000\n",
      "75%        9.000000      1.000000\n",
      "max       10.000000      1.000000\n"
     ]
    }
   ],
   "source": [
    "print(data.describe())"
   ]
  },
  {
   "cell_type": "code",
   "execution_count": 8,
   "metadata": {},
   "outputs": [
    {
     "name": "stdout",
     "output_type": "stream",
     "text": [
      "Review       0\n",
      "Rating       0\n",
      "Sentiment    0\n",
      "dtype: int64\n"
     ]
    }
   ],
   "source": [
    "print(data.isnull().sum())"
   ]
  },
  {
   "cell_type": "markdown",
   "metadata": {},
   "source": [
    "## Data Visualization"
   ]
  },
  {
   "cell_type": "code",
   "execution_count": 9,
   "metadata": {},
   "outputs": [
    {
     "data": {
      "text/plain": [
       "Review       False\n",
       "Rating       False\n",
       "Sentiment    False\n",
       "dtype: bool"
      ]
     },
     "execution_count": 9,
     "metadata": {},
     "output_type": "execute_result"
    }
   ],
   "source": [
    "data.isnull().any()"
   ]
  },
  {
   "cell_type": "code",
   "execution_count": 10,
   "metadata": {},
   "outputs": [
    {
     "data": {
      "image/png": "[encoded data removed]",
      "text/plain": [
       "<Figure size 1000x600 with 1 Axes>"
      ]
     },
     "metadata": {},
     "output_type": "display_data"
    }
   ],
   "source": [
    "plt.figure(figsize=(10, 6))\n",
    "data.boxplot(column='Rating')\n",
    "plt.title('Box Plot of Rating')\n",
    "plt.show()"
   ]
  },
  {
   "cell_type": "markdown",
   "metadata": {},
   "source": [
    "## Text Preprocessing"
   ]
  },
  {
   "cell_type": "code",
   "execution_count": 11,
   "metadata": {},
   "outputs": [],
   "source": [
    "tfidf_vectorizer = TfidfVectorizer(stop_words='english', max_features=1000)\n",
    "x_tfidf = tfidf_vectorizer.fit_transform(data['Review'])"
   ]
  },
  {
   "cell_type": "code",
   "execution_count": 12,
   "metadata": {},
   "outputs": [],
   "source": [
    "x = x_tfidf.toarray()\n",
    "x = np.hstack((x, data[['Sentiment']]))\n",
    "y = data['Rating']"
   ]
  },
  {
   "cell_type": "markdown",
   "metadata": {},
   "source": [
    "## Scaling"
   ]
  },
  {
   "cell_type": "code",
   "execution_count": 13,
   "metadata": {},
   "outputs": [],
   "source": [
    "scaler = StandardScaler()\n",
    "x_scaled = scaler.fit_transform(x)"
   ]
  },
  {
   "cell_type": "markdown",
   "metadata": {},
   "source": [
    "## Dataset Splitting"
   ]
  },
  {
   "cell_type": "code",
   "execution_count": 14,
   "metadata": {},
   "outputs": [],
   "source": [
    "x_train, x_test, y_train, y_test = train_test_split(x_scaled, y, test_size=0.2, random_state=1)"
   ]
  },
  {
   "cell_type": "markdown",
   "metadata": {},
   "source": [
    "## Model Training"
   ]
  },
  {
   "cell_type": "markdown",
   "metadata": {},
   "source": [
    "#### Linear Regression"
   ]
  },
  {
   "cell_type": "code",
   "execution_count": 15,
   "metadata": {},
   "outputs": [
    {
     "name": "stdout",
     "output_type": "stream",
     "text": [
      "Linear Regression R2 score:  0.8977756012121262\n",
      "MSE:  1.2291087149834354\n",
      "RMSE:  1.1086517555046018\n"
     ]
    }
   ],
   "source": [
    "lr = LinearRegression()\n",
    "lr.fit(x_train, y_train)\n",
    "y_pred_lr = lr.predict(x_test)\n",
    "\n",
    "print(\"Linear Regression R2 score: \", r2_score(y_test, y_pred_lr))\n",
    "print(\"MSE: \", mean_squared_error(y_test, y_pred_lr))\n",
    "print(\"RMSE: \", np.sqrt(mean_squared_error(y_test, y_pred_lr)))\n"
   ]
  },
  {
   "cell_type": "markdown",
   "metadata": {},
   "source": [
    "## Model Saving"
   ]
  },
  {
   "cell_type": "code",
   "execution_count": 16,
   "metadata": {},
   "outputs": [],
   "source": [
    "with open('movie_rating_model.pkl', 'wb') as file:\n",
    "    pickle.dump(lr, file)\n",
    "with open('tfidf_vectorizer.pkl', 'wb') as file:\n",
    "    pickle.dump(tfidf_vectorizer, file)"
   ]
  },
  {
   "cell_type": "markdown",
   "metadata": {},
   "source": [
    "## Prediction"
   ]
  },
  {
   "cell_type": "code",
   "execution_count": 17,
   "metadata": {},
   "outputs": [],
   "source": [
    "# with open('movie_rating_model.pkl', 'rb') as file:\n",
    "#     movie_rating_model = pickle.load(file)\n",
    "\n",
    "# with open('tfidf_vectorizer.pkl', 'rb') as file:\n",
    "#     tfidf_vectorizer = pickle.load(file)\n",
    "\n",
    "# with open('scaler.pkl', 'rb') as file:\n",
    "#     scaler = pickle.load(file)\n",
    "\n",
    "# review = input(\"Please enter the movie review: \")\n",
    "# sentiment = int(input(\"Please enter the sentiment (0 for negative, 1 for positive): \"))\n",
    "\n",
    "# review_vector = tfidf_vectorizer.transform([review])\n",
    "\n",
    "# review_vector_dense = review_vector.toarray()\n",
    "# review_vector_with_sentiment = np.hstack((review_vector_dense, np.array([[sentiment]])))\n",
    "\n",
    "# review_vector_scaled = scaler.transform(review_vector_with_sentiment)\n",
    "\n",
    "# predicted_rating = movie_rating_model.predict(review_vector_scaled)\n",
    "\n",
    "# feature_names = np.array(tfidf_vectorizer.get_feature_names_out())\n",
    "# sorted_indices = np.argsort(-review_vector.toarray()).flatten()\n",
    "# top_keywords = feature_names[sorted_indices[:5]]\n",
    "\n",
    "# print(\"\\nPredicted Movie Rating:\", predicted_rating[0])\n",
    "# print(\"Keywords justifying the rating:\", ', '.join(top_keywords))\n"
   ]
  },
  {
   "cell_type": "code",
   "execution_count": 18,
   "metadata": {},
   "outputs": [
    {
     "name": "stdout",
     "output_type": "stream",
     "text": [
      "Predicted Movie Rating: 2.5638641485663514\n",
      "Keywords justifying the rating: ['movie' 'wrote' 'wrong' 'written' 'writing']\n"
     ]
    }
   ],
   "source": [
    "with open('movie_rating_model.pkl', 'rb') as file:\n",
    "    movie_rating_model = pickle.load(file)\n",
    "\n",
    "with open('tfidf_vectorizer.pkl', 'rb') as file:\n",
    "    tfidf_vectorizer = pickle.load(file)\n",
    "\n",
    "review = input(\"Please enter the movie review: \")\n",
    "sentiment = int(input(\"Please enter the sentiment (0 for negative, 1 for positive): \")) \n",
    "\n",
    "review_vector = tfidf_vectorizer.transform([review])\n",
    "\n",
    "review_vector_dense = review_vector.toarray()\n",
    "review_vector_with_sentiment = np.hstack((review_vector_dense, np.array([[sentiment]])))\n",
    "\n",
    "review_vector_scaled = scaler.transform(review_vector_with_sentiment)\n",
    "\n",
    "predicted_rating = movie_rating_model.predict(review_vector_scaled)\n",
    "\n",
    "feature_names = np.array(tfidf_vectorizer.get_feature_names_out())\n",
    "sorted_indices = np.argsort(-review_vector.toarray()).flatten()\n",
    "top_keywords = feature_names[sorted_indices[:5]]\n",
    "\n",
    "print(\"Predicted Movie Rating:\", predicted_rating[0])\n",
    "print(\"Keywords justifying the rating:\", top_keywords)\n"
   ]
  }
 ],
 "metadata": {
  "kernelspec": {
   "display_name": "Python 3",
   "language": "python",
   "name": "python3"
  },
  "language_info": {
   "codemirror_mode": {
    "name": "ipython",
    "version": 3
   },
   "file_extension": ".py",
   "mimetype": "text/x-python",
   "name": "python",
   "nbconvert_exporter": "python",
   "pygments_lexer": "ipython3",
   "version": "3.12.5"
  }
 },
 "nbformat": 4,
 "nbformat_minor": 2
}
